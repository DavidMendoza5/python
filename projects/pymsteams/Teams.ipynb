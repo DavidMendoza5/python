{
 "cells": [
  {
   "cell_type": "markdown",
   "metadata": {},
   "source": [
    "# Motor de preguntas de Excel a Teams - Python"
   ]
  },
  {
   "cell_type": "markdown",
   "metadata": {},
   "source": [
    "* Lo primero es pasarle la dirección Webhook de vuestro canal"
   ]
  },
  {
   "cell_type": "code",
   "execution_count": 46,
   "metadata": {},
   "outputs": [],
   "source": [
    "url = \"https://outlook.office.com/webhook/a559a3f9-6b2b-4b72-b142-51cec2745384@6f86d23d-b473-4fb9-afa4-7badbf37cf5d/IncomingWebhook/7eaec97cfffa4422af415d2840aa0549/d2330dd8-d304-469a-8039-60d3b5233fe3\""
   ]
  },
  {
   "cell_type": "markdown",
   "metadata": {},
   "source": [
    "### Cargamos las librerias necesarias\n",
    "* Pymsteams ==> Para enlazar con Micrsofot Teams\n",
    "* xlrd ==> Para Leer vuestro Excel\n",
    "* Time ==> para realizar las pausas entre preguntas"
   ]
  },
  {
   "cell_type": "code",
   "execution_count": 47,
   "metadata": {},
   "outputs": [],
   "source": [
    "import pymsteams\n",
    "import xlrd\n",
    "import time"
   ]
  },
  {
   "cell_type": "markdown",
   "metadata": {},
   "source": [
    "### Leemos nuestro Excel"
   ]
  },
  {
   "cell_type": "code",
   "execution_count": 48,
   "metadata": {},
   "outputs": [],
   "source": [
    "preguntas=(\"preguntas.xlsx\")\n",
    "excel = xlrd.open_workbook(preguntas) \n",
    "hoja = excel.sheet_by_index(0) "
   ]
  },
  {
   "cell_type": "markdown",
   "metadata": {},
   "source": [
    "### Mandamos el Lenguaje de cabecera para informar que empeiza nuestra actividad"
   ]
  },
  {
   "cell_type": "code",
   "execution_count": 49,
   "metadata": {},
   "outputs": [],
   "source": [
    "myTeamsMessage = pymsteams.connectorcard(url)\n",
    "# create the section\n",
    "Section = pymsteams.cardsection()\n",
    "\n",
    "# Section Title\n",
    "Section.title(\"Preguntas de Matemáticas\")\n",
    "\n",
    "# Activity Elements\n",
    "Section.activityTitle(\"Responde a las preguntas lo más rápido que puedas\")\n",
    "Section.activitySubtitle(\"Empezamos en 10 segundos\")\n",
    "\n",
    "# Section Images\n",
    "Section.addImage(\"https://blog.tcea.org/wp-content/uploads/2019/09/question_mark_PNG128.png\", ititle=\"Preguntas\")\n",
    "\n",
    "# Add your section to the connector card object before sending\n",
    "myTeamsMessage.addSection(Section)\n",
    "\n",
    "# Add text to the message.\n",
    "myTeamsMessage.text(\"Actividad de preguntas en nuestro canal de Microsoft Teams\")\n",
    "\n",
    "# send the message.\n",
    "myTeamsMessage.send()\n",
    "time.sleep(6)"
   ]
  },
  {
   "cell_type": "markdown",
   "metadata": {},
   "source": [
    "### Empezamos nuestro bucle para ir lanzando tantas preguntas como tengamos en el Excel."
   ]
  },
  {
   "cell_type": "code",
   "execution_count": 50,
   "metadata": {},
   "outputs": [],
   "source": [
    "for q in range (hoja.nrows - 1):\n",
    "    myTeamsMessage = pymsteams.connectorcard(url)\n",
    "    # create the section\n",
    "    myMessageSection = pymsteams.cardsection()\n",
    "\n",
    "    # Añadimos las preguntas celda por celda\n",
    "    myMessageSection.title(\"Esta pregunta es para: \" + str(hoja.cell_value(q+1, 1)))\n",
    "    myMessageSection.activityTitle(hoja.cell_value(q+1, 0))\n",
    "    myMessageSection.activitySubtitle(\"El tiempo para responder es \" + str(hoja.cell_value(q+1, 2)) + \" segundos\")\n",
    "    \n",
    "    # Añadimos las preguntas y el texto del tiempo a la sección\n",
    "    myTeamsMessage.addSection(myMessageSection)\n",
    "    # Colocamos un texto al mensaje\n",
    "    myTeamsMessage.text(\"Vamos a por la pregunta \" + str(q + 1))\n",
    "\n",
    "    # Envio a Microsoft Teams\n",
    "    myTeamsMessage.send()\n",
    "    time.sleep(int(hoja.cell_value(q+1, 2)))"
   ]
  },
  {
   "cell_type": "code",
   "execution_count": null,
   "metadata": {},
   "outputs": [],
   "source": []
  }
 ],
 "metadata": {
  "kernelspec": {
   "display_name": "Python 3",
   "language": "python",
   "name": "python3"
  },
  "language_info": {
   "codemirror_mode": {
    "name": "ipython",
    "version": 3
   },
   "file_extension": ".py",
   "mimetype": "text/x-python",
   "name": "python",
   "nbconvert_exporter": "python",
   "pygments_lexer": "ipython3",
   "version": "3.7.3"
  }
 },
 "nbformat": 4,
 "nbformat_minor": 2
}
