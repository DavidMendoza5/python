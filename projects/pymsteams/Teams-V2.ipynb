{
 "cells": [
  {
   "cell_type": "markdown",
   "metadata": {},
   "source": [
    "# Motor de preguntas de Excel a Teams - Python"
   ]
  },
  {
   "cell_type": "markdown",
   "metadata": {},
   "source": [
    "* Lo primero es pasarle la dirección Webhook de vuestro canal"
   ]
  },
  {
   "cell_type": "code",
   "execution_count": 3,
   "metadata": {},
   "outputs": [],
   "source": [
    "url = \"\""
   ]
  },
  {
   "cell_type": "markdown",
   "metadata": {},
   "source": [
    "### Cargamos las librerias necesarias\n",
    "* Pymsteams ==> Para enlazar con Micrsofot Teams\n",
    "* xlrd ==> Para Leer vuestro Excel\n",
    "* Time ==> para realizar las pausas entre preguntas\n",
    "* Random ==> Generar números aleatorios"
   ]
  },
  {
   "cell_type": "code",
   "execution_count": 14,
   "metadata": {},
   "outputs": [],
   "source": [
    "import pymsteams\n",
    "import xlrd\n",
    "import time\n",
    "from random import randint"
   ]
  },
  {
   "cell_type": "markdown",
   "metadata": {},
   "source": [
    "### Leemos nuestro Excel"
   ]
  },
  {
   "cell_type": "code",
   "execution_count": 5,
   "metadata": {},
   "outputs": [],
   "source": [
    "preguntas=(\"preguntas.xlsx\")\n",
    "excel = xlrd.open_workbook(preguntas) \n",
    "hoja = excel.sheet_by_index(0) "
   ]
  },
  {
   "cell_type": "markdown",
   "metadata": {},
   "source": [
    "### Mandamos el Lenguaje de cabecera para informar que empieza nuestra actividad"
   ]
  },
  {
   "cell_type": "code",
   "execution_count": 6,
   "metadata": {},
   "outputs": [],
   "source": [
    "myTeamsMessage = pymsteams.connectorcard(url)\n",
    "# Creamos una sección\n",
    "Section = pymsteams.cardsection()\n",
    "\n",
    "# Titulo de la sección\n",
    "Section.title(\"Preguntas de Matemáticas\")\n",
    "\n",
    "# Añadimos la informaciónd e la actividad\n",
    "Section.activityTitle(\"Responde a las preguntas lo más rápido que puedas\")\n",
    "Section.activitySubtitle(\"Empezamos en 10 segundos\")\n",
    "\n",
    "# Ponemos una imagen \n",
    "Section.addImage(\"https://blog.tcea.org/wp-content/uploads/2019/09/question_mark_PNG128.png\", ititle=\"Preguntas\")\n",
    "\n",
    "# conectamos la sección que hemos creado con el Mensaje\n",
    "myTeamsMessage.addSection(Section)\n",
    "\n",
    "# Añadimo el texto al mensaje\n",
    "myTeamsMessage.text(\"Actividad de preguntas en nuestro canal de Microsoft Teams\")\n",
    "\n",
    "# Enviamos a Teams\n",
    "myTeamsMessage.send()\n",
    "time.sleep(6)"
   ]
  },
  {
   "cell_type": "markdown",
   "metadata": {},
   "source": [
    "### Empezamos nuestro bucle para ir lanzando tantas preguntas como tengamos en el Excel.\n",
    "* Lo hacemos en orden secuencial de las filas del Excel"
   ]
  },
  {
   "cell_type": "code",
   "execution_count": 50,
   "metadata": {},
   "outputs": [],
   "source": [
    "for q in range (hoja.nrows):\n",
    "    \n",
    "    myTeamsMessage = pymsteams.connectorcard(url)\n",
    "    # create the section\n",
    "    myMessageSection = pymsteams.cardsection()\n",
    "\n",
    "    # Añadimos las preguntas celda por celda\n",
    "    myMessageSection.title(\"Esta pregunta es para: \" + str(hoja.cell_value(q, 1)))\n",
    "    myMessageSection.activityTitle(hoja.cell_value(q, 0))\n",
    "    myMessageSection.activitySubtitle(\"El tiempo para responder es \" + str(hoja.cell_value(q, 2)) + \" segundos\")\n",
    "    \n",
    "    # Añadimos las preguntas y el texto del tiempo a la sección\n",
    "    myTeamsMessage.addSection(myMessageSection)\n",
    "    # Colocamos un texto al mensaje\n",
    "    myTeamsMessage.text(\"Vamos a por la pregunta \" + str(q + 1))\n",
    "\n",
    "    # Envio a Microsoft Teams\n",
    "    myTeamsMessage.send()\n",
    "    time.sleep(int(hoja.cell_value(q, 2)))"
   ]
  },
  {
   "cell_type": "markdown",
   "metadata": {},
   "source": [
    "## Versión 2\n",
    "* Crear orden aleatorio en los alumnos"
   ]
  },
  {
   "cell_type": "code",
   "execution_count": 13,
   "metadata": {},
   "outputs": [],
   "source": [
    "for q in range (hoja.nrows):\n",
    "    #Generamos un numero aleatorio para la columna de los alumnos\n",
    "    alumno=randint(1,10)\n",
    "    \n",
    "    myTeamsMessage = pymsteams.connectorcard(url)\n",
    "    # create the section\n",
    "    myMessageSection = pymsteams.cardsection()\n",
    "\n",
    "    # Añadimos las preguntas celda por celda y ponermos la variable alumno para que elija al azar\n",
    "    myMessageSection.title(\"Esta pregunta es para: \" + str(hoja.cell_value(alumno, 1)))\n",
    "    myMessageSection.activityTitle(hoja.cell_value(q, 0))\n",
    "    myMessageSection.activitySubtitle(\"El tiempo para responder es \" + str(hoja.cell_value(q, 2)) + \" segundos\")\n",
    "    \n",
    "    # Añadimos las preguntas y el texto del tiempo a la sección\n",
    "    myTeamsMessage.addSection(myMessageSection)\n",
    "    # Colocamos un texto al mensaje\n",
    "    myTeamsMessage.text(\"Vamos a por la pregunta \" + str(q + 1))\n",
    "\n",
    "    # Envio a Microsoft Teams\n",
    "    myTeamsMessage.send()\n",
    "    time.sleep(int(hoja.cell_value(q, 2)))"
   ]
  },
  {
   "cell_type": "markdown",
   "metadata": {},
   "source": [
    "## Versión 3\n",
    "* Jugamos con los cuadros"
   ]
  },
  {
   "cell_type": "markdown",
   "metadata": {},
   "source": [
    "### Volvemos a leer el Excel pero esta vez escogemos la segunda hoja"
   ]
  },
  {
   "cell_type": "code",
   "execution_count": 23,
   "metadata": {},
   "outputs": [],
   "source": [
    "cuadros=(\"preguntas.xlsx\")\n",
    "excel = xlrd.open_workbook(cuadros) \n",
    "hoja = excel.sheet_by_index(1) "
   ]
  },
  {
   "cell_type": "code",
   "execution_count": 24,
   "metadata": {},
   "outputs": [],
   "source": [
    "for q in range (2):\n",
    "    \n",
    "    myTeamsMessage = pymsteams.connectorcard(url)\n",
    "    # create the section\n",
    "    myMessageSection = pymsteams.cardsection()\n",
    "\n",
    "    #añadimos las fotos a la sección por medio de las direcciones url que tenemos en el Excel\n",
    "    myMessageSection.addImage(hoja.cell_value(q, 0), ititle=\"Los cuadros\")\n",
    "    myMessageSection.activitySubtitle(\"El tiempo para responder es \" + str(hoja.cell_value(q, 1)) + \" segundos\")\n",
    "    \n",
    "    # Añadimos las preguntas y el texto del tiempo a la sección\n",
    "    myTeamsMessage.addSection(myMessageSection)\n",
    "    # Colocamos un texto al mensaje\n",
    "    myTeamsMessage.text(\"Vamos a por la pregunta \" + str(q + 1))\n",
    "\n",
    "    # Envio a Microsoft Teams\n",
    "    myTeamsMessage.send()\n",
    "    time.sleep(6)"
   ]
  },
  {
   "cell_type": "code",
   "execution_count": null,
   "metadata": {},
   "outputs": [],
   "source": []
  }
 ],
 "metadata": {
  "kernelspec": {
   "display_name": "Python 3",
   "language": "python",
   "name": "python3"
  },
  "language_info": {
   "codemirror_mode": {
    "name": "ipython",
    "version": 3
   },
   "file_extension": ".py",
   "mimetype": "text/x-python",
   "name": "python",
   "nbconvert_exporter": "python",
   "pygments_lexer": "ipython3",
   "version": "3.7.3"
  }
 },
 "nbformat": 4,
 "nbformat_minor": 2
}
