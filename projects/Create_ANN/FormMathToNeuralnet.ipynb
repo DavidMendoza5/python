{
 "cells": [
  {
   "cell_type": "markdown",
   "metadata": {},
   "source": [
    "# Red Neural: Desde las matemáticas hasta el aprendizaje"
   ]
  },
  {
   "cell_type": "markdown",
   "metadata": {},
   "source": [
    "### Importamos las librerias necesarias"
   ]
  },
  {
   "cell_type": "code",
   "execution_count": 110,
   "metadata": {},
   "outputs": [],
   "source": [
    "import pandas as pd\n",
    "import numpy as np\n",
    "import math, random\n",
    "import matplotlib.pyplot as plt\n",
    "%matplotlib inline  \n",
    "from sklearn.datasets import make_circles, make_classification, make_gaussian_quantiles\n",
    "from sklearn.preprocessing import MinMaxScaler\n",
    "from IPython.display import display, Math, Latex\n",
    "import time\n",
    "from IPython.display import clear_output "
   ]
  },
  {
   "cell_type": "markdown",
   "metadata": {},
   "source": [
    "## ¿Que es una red neuronal?\n",
    "* Una red neuronal se define como un sistema que consiste en una serie de elementos todos interconectados, llamados \"neuronas\", que se organizan en capas que procesan la información utilizando respuestas de estado dinámico a entradas externas. \n",
    "* En el contexto de esta estructura, la capa de entrada introduce patrones en la red neuronal que tiene una neurona para cada componente presente en los datos de entrada y se comunica a una o más capas ocultas, se considera capas ocultas a todas las capas de la red exceptuando la de entrada y salida. Es en las capas ocultas donde sucede todo el procesamiento, a través de un sistema de conexiones caracterizado por pesos y sesgos (comúnmente conocidos como W yb)"
   ]
  },
  {
   "cell_type": "markdown",
   "metadata": {},
   "source": [
    "![title](images/RedNeuronalArtificial.png)"
   ]
  },
  {
   "cell_type": "markdown",
   "metadata": {},
   "source": [
    "### ¿Como funciona?\n",
    "* Con el valor de entrada que recibe la neurona se calcula una suma ponderada agregando también el sesgo y de acuerdo con el resultado y una función de activación preestablecida (las cuales veremos a continuación), se decide la activación o excitación de la neurona. Posteriormente, la neurona transmite la información a otras neuronas conectadas en un proceso llamado \"PassFoward\". Al final de este proceso, la última capa oculta está vinculada a la capa de salida que tiene una neurona para cada posible salida deseada."
   ]
  },
  {
   "cell_type": "code",
   "execution_count": 111,
   "metadata": {},
   "outputs": [
    {
     "data": {
      "text/latex": [
       "$\\displaystyle z = \\sum_{i=1}^nX_iW_i + b_i$"
      ],
      "text/plain": [
       "<IPython.core.display.Math object>"
      ]
     },
     "metadata": {},
     "output_type": "display_data"
    },
    {
     "data": {
      "text/latex": [
       "$\\displaystyle a = F(z)$"
      ],
      "text/plain": [
       "<IPython.core.display.Math object>"
      ]
     },
     "metadata": {},
     "output_type": "display_data"
    }
   ],
   "source": [
    "display(Math(r'z = \\sum_{i=1}^nX_iW_i + b_i'))\n",
    "display(Math(r'a = F(z)'))"
   ]
  },
  {
   "cell_type": "markdown",
   "metadata": {},
   "source": [
    "![title](images/artificial-neuron.svg)"
   ]
  },
  {
   "cell_type": "markdown",
   "metadata": {},
   "source": [
    "## Funciones de Activación\n",
    "Se utiliza para determinar la salida de la red neuronal como sí o no. Mapea los valores resultantes entre 0 a 1 o -1 a 1 .Las funciones de activación se pueden dividir básicamente en 2 tipos:\n",
    "* ***Función de activación lineal*** : Las cuales ya no se usan en el Deep Learning, ya que la salida de las funciones no estará confinada entre ningún rango y la suma de diferentes funciones lineales sigue siendo una función lineal acotando así la activación de la neurona.\n",
    "* ***Funciones de activación no lineal***: Son las usadas en las redes neuronales, como veremos a continuación estas funciones permiten un acotamiento de los datos de salida. Algunos ejemplos son al función sigmoide o tangente hiperbólica"
   ]
  },
  {
   "cell_type": "markdown",
   "metadata": {},
   "source": [
    "### Función Sigmoide\n",
    "* La razón principal por la que usamos la función sigmoide es porque existe entre (0 a 1). Por lo tanto, se usa especialmente para modelos en los que tenemos que predecir la probabilidad como un resultado. Dado que la probabilidad de cualquier cosa existe solo entre el rango de 0 y 1"
   ]
  },
  {
   "cell_type": "code",
   "execution_count": 112,
   "metadata": {},
   "outputs": [],
   "source": [
    "#Creamos la función sigmoide con lambda , donde lambda[0] es la sigmoide y lambda[1] es su derivada\n",
    "sigm = (lambda x:1/(1+np.e**(-x)),lambda x:x * (1-x))"
   ]
  },
  {
   "cell_type": "code",
   "execution_count": 113,
   "metadata": {},
   "outputs": [
    {
     "data": {
      "text/latex": [
       "$\\displaystyle sigmoide(x) = \\frac{1}{1+e^{-x}} $"
      ],
      "text/plain": [
       "<IPython.core.display.Math object>"
      ]
     },
     "metadata": {},
     "output_type": "display_data"
    },
    {
     "data": {
      "text/latex": [
       "$\\displaystyle sigmoide'(x) = x{(1-x)}$"
      ],
      "text/plain": [
       "<IPython.core.display.Math object>"
      ]
     },
     "metadata": {},
     "output_type": "display_data"
    },
    {
     "data": {
      "image/png": "[encoded data removed]",
      "text/plain": [
       "<Figure size 1080x720 with 2 Axes>"
      ]
     },
     "metadata": {
      "needs_background": "light"
     },
     "output_type": "display_data"
    }
   ],
   "source": [
    "#Latex\n",
    "display(Math(r'sigmoide(x) = \\frac{1}{1+e^{-x}} '))\n",
    "display(Math(r\"$$sigmoide'(x) = x{(1-x)}\"))\n",
    "\n",
    "v = np.linspace(-5,5,100)\n",
    "plt.figure(1,figsize=(15,10))\n",
    "plt.subplot(221)\n",
    "plt.plot(v,sigm[0](v))\n",
    "plt.title(\"Funcion Sigmoide\")\n",
    "plt.subplot(222)\n",
    "plt.plot(v,sigm[1](v), \"--\", color=\"red\")\n",
    "plt.title(\"Derivada función Sigmoide\")\n",
    "plt.show()"
   ]
  },
  {
   "cell_type": "markdown",
   "metadata": {},
   "source": [
    "### Función Tangente hiperbólica o Gaussiana\n",
    "* Es una función similar a la Sigmoide pero produce salidas en escala de [-1, +1]. Además, es una función continua. En otras palabras, la función produce resultados para cada valor de x."
   ]
  },
  {
   "cell_type": "code",
   "execution_count": 114,
   "metadata": {},
   "outputs": [],
   "source": [
    "#Tangente Hiperbólica y su derivada\n",
    "cosh = (lambda x: (np.e**(x) + np.e**(-x))/2) #Saco la función de coseno hiperbólico para la derivada de la tangh\n",
    "tanh = (lambda x: (np.e**(x) - np.e**(-x))/(np.e**(x) + np.e**(-x)), lambda x: 1/cosh(x)**2)"
   ]
  },
  {
   "cell_type": "code",
   "execution_count": 121,
   "metadata": {},
   "outputs": [
    {
     "data": {
      "text/latex": [
       "$\\displaystyle cosh(x) = \\frac{e^{-x} + e^{-x}}{2}$"
      ],
      "text/plain": [
       "<IPython.core.display.Math object>"
      ]
     },
     "metadata": {},
     "output_type": "display_data"
    },
    {
     "data": {
      "text/latex": [
       "$\\displaystyle tanh(x) = \\frac{e^{-x} - e^{-x}}{e^{-x} + e^{-x}} $"
      ],
      "text/plain": [
       "<IPython.core.display.Math object>"
      ]
     },
     "metadata": {},
     "output_type": "display_data"
    },
    {
     "data": {
      "text/latex": [
       "$\\displaystyle 'tanh(x) = \\frac{1}{\\cosh^2{x}} $"
      ],
      "text/plain": [
       "<IPython.core.display.Math object>"
      ]
     },
     "metadata": {},
     "output_type": "display_data"
    },
    {
     "data": {
      "image/png": "[encoded data removed]",
      "text/plain": [
       "<Figure size 1080x720 with 3 Axes>"
      ]
     },
     "metadata": {
      "needs_background": "light"
     },
     "output_type": "display_data"
    }
   ],
   "source": [
    "#Latex\n",
    "display(Math(r'cosh(x) = \\frac{e^{-x} + e^{-x}}{2}'))\n",
    "display(Math(r'tanh(x) = \\frac{e^{-x} - e^{-x}}{e^{-x} + e^{-x}} '))\n",
    "display(Math(r\"'tanh(x) = \\frac{1}{\\cosh^2{x}} \"))\n",
    "\n",
    "v = np.linspace(-5,5,100)\n",
    "plt.figure(1,figsize=(15,10))\n",
    "plt.subplot(331)\n",
    "plt.plot(v,cosh(v))\n",
    "plt.title(\"Funcion Coseno hiperbólico\")\n",
    "plt.subplot(332)\n",
    "plt.plot(v,tanh[0](v))\n",
    "plt.title(\"Función Tangente hiperbólica\")\n",
    "plt.subplot(333)\n",
    "plt.plot(v,tanh[1](v), \"--\", color=\"red\")\n",
    "plt.title(\"Derivada función Tangente hiperbólica\")\n",
    "plt.savefig('images\\sigmoide.png')\n",
    "plt.show()"
   ]
  },
  {
   "cell_type": "markdown",
   "metadata": {},
   "source": [
    "### Función RELU (Rectified Lineal Unit)\n",
    "* ReLU es la función de activación más utilizada en el mundo en este momento. Desde entonces, se utiliza en casi todas las redes neuronales convolucionales o el aprendizaje profundo.\n",
    "* Como puedes ver, ReLU está medio rectificado (desde abajo). f(z) es cero cuando z es menor que cero y f(z) es igual a z cuando z es superior o igual a cero.\n",
    "* Es una función usada en las capas ocultas de nuestra red neuronal, NO en las de salida"
   ]
  },
  {
   "cell_type": "code",
   "execution_count": 82,
   "metadata": {},
   "outputs": [],
   "source": [
    "#Relu Rectified Lineal Unit\n",
    "relu = (lambda x: np.maximum(0,x), lambda x: 1. * (x > 0))"
   ]
  },
  {
   "cell_type": "code",
   "execution_count": 123,
   "metadata": {},
   "outputs": [
    {
     "data": {
      "text/latex": [
       "$\\displaystyle relu(x) = \\max(0,x) $"
      ],
      "text/plain": [
       "<IPython.core.display.Math object>"
      ]
     },
     "metadata": {},
     "output_type": "display_data"
    },
    {
     "data": {
      "text/latex": [
       "$\\displaystyle 'relu(x) = 1.(x>0) $"
      ],
      "text/plain": [
       "<IPython.core.display.Math object>"
      ]
     },
     "metadata": {},
     "output_type": "display_data"
    },
    {
     "data": {
      "image/png": "[encoded data removed]",
      "text/plain": [
       "<Figure size 1080x720 with 2 Axes>"
      ]
     },
     "metadata": {
      "needs_background": "light"
     },
     "output_type": "display_data"
    }
   ],
   "source": [
    "#Latex\n",
    "display(Math(r'relu(x) = \\max(0,x) '))\n",
    "display(Math(r\"'relu(x) = 1.(x>0) \"))\n",
    "\n",
    "v = np.linspace(-5,5,100)\n",
    "plt.figure(1,figsize=(15,10))\n",
    "plt.subplot(221)\n",
    "plt.plot(v,relu[0](v))\n",
    "plt.title(\"Funcion RELU\")\n",
    "plt.subplot(222)\n",
    "plt.plot(v,relu[1](v), \"--\", color=\"red\")\n",
    "plt.title(\"Derivada función RELU\")\n",
    "plt.savefig('images\\sigmoide.png')\n",
    "plt.show()"
   ]
  },
  {
   "cell_type": "markdown",
   "metadata": {},
   "source": [
    "## ¿Como aprende nuestra red neuronal?\n",
    "El paso final del ***PassForward*** es evaluar la salida predicha (Yr) contra una salida esperada (Yr).\n",
    "La salida Yr es parte del conjunto de datos de entrenamiento (x, y) donde x es la entrada (como vimos en la sección anterior).\n",
    "La evaluación entre Yp e Yr se realiza a través de una función de coste.\n",
    "Para este ejercicio hemos usado dos funciones de coste:\n",
    "\n",
    "* MSE (error cuadrático medio)\n",
    "* Entropía cruzada.\n",
    "\n",
    "Llamamos a esta función de costo C y la denotamos de la siguiente manera:"
   ]
  },
  {
   "cell_type": "code",
   "execution_count": 84,
   "metadata": {},
   "outputs": [
    {
     "data": {
      "text/latex": [
       "$\\displaystyle C = cost(Y_p,Y_r)$"
      ],
      "text/plain": [
       "<IPython.core.display.Math object>"
      ]
     },
     "metadata": {},
     "output_type": "display_data"
    }
   ],
   "source": [
    "display(Math(r'C = cost(Y_p,Y_r)'))"
   ]
  },
  {
   "cell_type": "markdown",
   "metadata": {},
   "source": [
    "Donde el ***cost*** puede ser igual a MSE, entropía cruzada o cualquier otra función de coste.\n",
    "Según el valor de C, el modelo \"sabe\" cuánto ajustar sus parámetros (Weight y BIAS) para acercarse a la salida esperada y. \n",
    "***Esto sucede usando el algoritmo de retropropagación o tambien conocido como Backpropagation.***"
   ]
  },
  {
   "cell_type": "markdown",
   "metadata": {},
   "source": [
    "## Definimos las funciones de coste y sus derivadas \n",
    "#### MSE (Error cuadratico medio)"
   ]
  },
  {
   "cell_type": "code",
   "execution_count": 85,
   "metadata": {},
   "outputs": [
    {
     "data": {
      "text/latex": [
       "$\\displaystyle MSE = \\frac{1}{n}{\\sum_{1=1}^n{(Y_i - \\hat{Y_i})}^2} $"
      ],
      "text/plain": [
       "<IPython.core.display.Math object>"
      ]
     },
     "metadata": {},
     "output_type": "display_data"
    },
    {
     "data": {
      "text/latex": [
       "$\\displaystyle 'MSE = \\sum_{i=1}^n{(Y_i - \\hat{Y_i})} $"
      ],
      "text/plain": [
       "<IPython.core.display.Math object>"
      ]
     },
     "metadata": {},
     "output_type": "display_data"
    }
   ],
   "source": [
    "mse_loss= (lambda Yp,Yr: np.mean((Yp-Yr)**2), lambda Yp,Yr: (Yp-Yr))\n",
    "\n",
    "display(Math(r'MSE = \\frac{1}{n}{\\sum_{1=1}^n{(Y_i - \\hat{Y_i})}^2} '))\n",
    "display(Math(r\"'MSE = \\sum_{i=1}^n{(Y_i - \\hat{Y_i})} \"))"
   ]
  },
  {
   "cell_type": "markdown",
   "metadata": {},
   "source": [
    "### Cross entropy\n",
    "* Clasificación binaria"
   ]
  },
  {
   "cell_type": "code",
   "execution_count": 124,
   "metadata": {},
   "outputs": [
    {
     "data": {
      "text/latex": [
       "$\\displaystyle H(y,P) = \\begin{cases}P=1, -\\log(P)\\\\P=0, -\\log(1-P)\\end{cases}$"
      ],
      "text/plain": [
       "<IPython.core.display.Math object>"
      ]
     },
     "metadata": {},
     "output_type": "display_data"
    },
    {
     "name": "stderr",
     "output_type": "stream",
     "text": [
      "C:\\Users\\jorge.calvo\\AppData\\Local\\Continuum\\anaconda3\\envs\\IA\\lib\\site-packages\\ipykernel_launcher.py:1: RuntimeWarning: divide by zero encountered in log\n",
      "  \"\"\"Entry point for launching an IPython kernel.\n",
      "C:\\Users\\jorge.calvo\\AppData\\Local\\Continuum\\anaconda3\\envs\\IA\\lib\\site-packages\\ipykernel_launcher.py:1: RuntimeWarning: invalid value encountered in log\n",
      "  \"\"\"Entry point for launching an IPython kernel.\n"
     ]
    },
    {
     "data": {
      "image/png": "[encoded data removed]",
      "text/plain": [
       "<Figure size 1080x720 with 2 Axes>"
      ]
     },
     "metadata": {
      "needs_background": "light"
     },
     "output_type": "display_data"
    }
   ],
   "source": [
    "entropy_loss_binary= (lambda Yp: -np.log(Yp), lambda Yp: -np.log(1-Yp))\n",
    "\n",
    "display(Math(r'H(y,P) = \\begin{cases}P=1, -\\log(P)\\\\P=0, -\\log(1-P)\\end{cases}'))\n",
    "\n",
    "v = np.linspace(0,10,100)\n",
    "plt.figure(1,figsize=(15,10))\n",
    "plt.subplot(221)\n",
    "plt.plot(v,entropy_loss_binary[0](v))\n",
    "plt.title(\"Funcion Entropia Y=1\")\n",
    "plt.subplot(222)\n",
    "plt.plot(v,entropy_loss_binary[1](v), color=\"red\")\n",
    "plt.title(\"Función Entropia Y=0\")\n",
    "plt.savefig('images\\sigmoide.png')\n",
    "plt.show()"
   ]
  },
  {
   "cell_type": "markdown",
   "metadata": {},
   "source": [
    "#### Estas dos expresiones podemos juntarlas en una sola para obetener una unica función de coste"
   ]
  },
  {
   "cell_type": "code",
   "execution_count": 87,
   "metadata": {},
   "outputs": [
    {
     "data": {
      "text/latex": [
       "$\\displaystyle H(y,P) = -\\frac{1}{n}{\\sum_{1=1}^n}(y\\log(P) + (1-y)\\log(1-P))$"
      ],
      "text/plain": [
       "<IPython.core.display.Math object>"
      ]
     },
     "metadata": {},
     "output_type": "display_data"
    },
    {
     "data": {
      "text/latex": [
       "$\\displaystyle 'H(y,P) =-(\\frac{y}{P}-\\frac{1-y}{1-P})$"
      ],
      "text/plain": [
       "<IPython.core.display.Math object>"
      ]
     },
     "metadata": {},
     "output_type": "display_data"
    }
   ],
   "source": [
    "cross_loss = (lambda Yp,Yr:-np.nanmean(Yr * np.log(Yp) + (1-Yr) * np.log(1-Yp)), \n",
    "              lambda Yp,Yr: -(np.divide(Yr,Yp)- np.divide(1-Yr, 1-Yp)))\n",
    "\n",
    "display(Math(r'H(y,P) = -\\frac{1}{n}{\\sum_{1=1}^n}(y\\log(P) + (1-y)\\log(1-P))'))\n",
    "display(Math(r\"'H(y,P) =-(\\frac{y}{P}-\\frac{1-y}{1-P})\"))    "
   ]
  },
  {
   "cell_type": "markdown",
   "metadata": {},
   "source": [
    "## BackPropagation y gradiente descendente\n",
    "\n",
    "Backpropagation tiene como objetivo minimizar la función de coste ajustando los pesos (w) y sesgos (bias) de la red. El nivel de ajuste está determinado por los gradientes de la función de coste con respecto a esos parámetros. (derivadas)\n",
    "\n",
    "##### La derivada de una función C mide la sensibilidad al cambio del valor de la función (valor de salida) con respecto a un cambio en su argumento x (valor de entrada). En otras palabras, la derivada nos dice en qué dirección va C.\n",
    "##### El gradiente muestra cuánto debe cambiar el parámetro x (en dirección positiva o negativa) para minimizar C.\n",
    "\n",
    "Para calcular estos gradientes usamos la tecnica de la ***Regla de la cadena***"
   ]
  },
  {
   "cell_type": "markdown",
   "metadata": {},
   "source": [
    "#### Derivada de la función de Coste respecto al peso\n",
    "* Se peuede expresar con la regla de la cadena, multiplicando la derivada del Coste respecto a la suma ponderada (z) por la derivada de (z) respecto al valor del peso (w)"
   ]
  },
  {
   "cell_type": "code",
   "execution_count": 88,
   "metadata": {},
   "outputs": [
    {
     "data": {
      "text/latex": [
       "$\\displaystyle \\frac{\\partial C}{\\partial w^l_{jk}} =\\frac{\\partial C}{\\partial z^l_j}\\frac{\\partial z^l_j}{\\partial w^l_{jk}}$"
      ],
      "text/plain": [
       "<IPython.core.display.Math object>"
      ]
     },
     "metadata": {},
     "output_type": "display_data"
    },
    {
     "data": {
      "text/latex": [
       "$\\displaystyle Por\\ definición\\ sabemos\\ que\\ : z^l_j=\\sum_{k=1}^mw^l_{jk}a^{l-1}_{k}+b^l_{j}$"
      ],
      "text/plain": [
       "<IPython.core.display.Math object>"
      ]
     },
     "metadata": {},
     "output_type": "display_data"
    },
    {
     "data": {
      "text/latex": [
       "$\\displaystyle Calculando\\ la\\ derivada\\ podemos\\ decir\\ que :\\frac{\\partial z^l_j}{\\partial w^l_{jk}} =a^{l-1}_{k}$"
      ],
      "text/plain": [
       "<IPython.core.display.Math object>"
      ]
     },
     "metadata": {},
     "output_type": "display_data"
    },
    {
     "data": {
      "text/latex": [
       "$\\displaystyle Valor\\ final :\\frac{\\partial C}{\\partial w^l_{jk}} =\\frac{\\partial C}{\\partial z^l_j}a^{l-1}_{k}$"
      ],
      "text/plain": [
       "<IPython.core.display.Math object>"
      ]
     },
     "metadata": {},
     "output_type": "display_data"
    }
   ],
   "source": [
    "display(Math(r'\\frac{\\partial C}{\\partial w^l_{jk}} =\\frac{\\partial C}{\\partial z^l_j}\\frac{\\partial z^l_j}{\\partial w^l_{jk}}'))\n",
    "display(Math(r'Por\\ definición\\ sabemos\\ que\\ : z^l_j=\\sum_{k=1}^mw^l_{jk}a^{l-1}_{k}+b^l_{j}'))\n",
    "display(Math(r'Calculando\\ la\\ derivada\\ podemos\\ decir\\ que :\\frac{\\partial z^l_j}{\\partial w^l_{jk}} =a^{l-1}_{k}'))\n",
    "display(Math(r'Valor\\ final :\\frac{\\partial C}{\\partial w^l_{jk}} =\\frac{\\partial C}{\\partial z^l_j}a^{l-1}_{k}'))"
   ]
  },
  {
   "cell_type": "markdown",
   "metadata": {},
   "source": [
    "#### Derivada de la función de Coste respecto al parametro BIAS\n",
    "* Se peuede expresar con la regla de la cadena, multiplicando la derivada del Coste respecto a la suma ponderada (z) por la derivada de (z) respecto al valor del BIAS (b)"
   ]
  },
  {
   "cell_type": "code",
   "execution_count": 89,
   "metadata": {},
   "outputs": [
    {
     "data": {
      "text/latex": [
       "$\\displaystyle \\frac{\\partial C}{\\partial b^l_{j}} =\\frac{\\partial C}{\\partial z^l_j}\\frac{\\partial z^l_j}{\\partial b^l_{j}}$"
      ],
      "text/plain": [
       "<IPython.core.display.Math object>"
      ]
     },
     "metadata": {},
     "output_type": "display_data"
    },
    {
     "data": {
      "text/latex": [
       "$\\displaystyle Calculando\\ la\\ derivada\\ podemos\\ decir\\ que :\\frac{\\partial z^l_j}{\\partial b^l_{j}} =1$"
      ],
      "text/plain": [
       "<IPython.core.display.Math object>"
      ]
     },
     "metadata": {},
     "output_type": "display_data"
    },
    {
     "data": {
      "text/latex": [
       "$\\displaystyle Valor\\ final :\\frac{\\partial C}{\\partial b^l_{j}} =\\frac{\\partial C}{\\partial z^l_j}1$"
      ],
      "text/plain": [
       "<IPython.core.display.Math object>"
      ]
     },
     "metadata": {},
     "output_type": "display_data"
    }
   ],
   "source": [
    "display(Math(r'\\frac{\\partial C}{\\partial b^l_{j}} =\\frac{\\partial C}{\\partial z^l_j}\\frac{\\partial z^l_j}{\\partial b^l_{j}}'))\n",
    "display(Math(r'Calculando\\ la\\ derivada\\ podemos\\ decir\\ que :\\frac{\\partial z^l_j}{\\partial b^l_{j}} =1'))\n",
    "display(Math(r'Valor\\ final :\\frac{\\partial C}{\\partial b^l_{j}} =\\frac{\\partial C}{\\partial z^l_j}1'))"
   ]
  },
  {
   "cell_type": "markdown",
   "metadata": {},
   "source": [
    "#### La parte común en ambas ecuaciones a menudo se denomina \"gradiente local\" y se expresa de la siguiente manera:"
   ]
  },
  {
   "cell_type": "code",
   "execution_count": 90,
   "metadata": {},
   "outputs": [
    {
     "data": {
      "text/latex": [
       "$\\displaystyle \\delta^l_{j} =\\frac{\\partial C}{\\partial z^l_{j}}$"
      ],
      "text/plain": [
       "<IPython.core.display.Math object>"
      ]
     },
     "metadata": {},
     "output_type": "display_data"
    },
    {
     "data": {
      "text/latex": [
       "$\\displaystyle Regla\\ de\\ la\\ cadena: \\delta^l_{j} =\\frac{\\partial C}{\\partial a^l_{j}}\\frac{\\partial a^l_{j}}{\\partial z^l_{j}}$"
      ],
      "text/plain": [
       "<IPython.core.display.Math object>"
      ]
     },
     "metadata": {},
     "output_type": "display_data"
    }
   ],
   "source": [
    "display(Math(r'\\delta^l_{j} =\\frac{\\partial C}{\\partial z^l_{j}}'))\n",
    "display(Math(r'Regla\\ de\\ la\\ cadena: \\delta^l_{j} =\\frac{\\partial C}{\\partial a^l_{j}}\\frac{\\partial a^l_{j}}{\\partial z^l_{j}}'))"
   ]
  },
  {
   "cell_type": "markdown",
   "metadata": {},
   "source": [
    "#### Computar el error de la capa anterior"
   ]
  },
  {
   "cell_type": "code",
   "execution_count": 91,
   "metadata": {},
   "outputs": [
    {
     "data": {
      "text/latex": [
       "$\\displaystyle \\delta^{l-1} =\\delta^lw^l\\frac{\\partial a^{l-1}}{\\partial z^{l-1}}$"
      ],
      "text/plain": [
       "<IPython.core.display.Math object>"
      ]
     },
     "metadata": {},
     "output_type": "display_data"
    }
   ],
   "source": [
    "display(Math(r'\\delta^{l-1} =\\delta^lw^l\\frac{\\partial a^{l-1}}{\\partial z^{l-1}}'))"
   ]
  },
  {
   "cell_type": "markdown",
   "metadata": {},
   "source": [
    "## Cuando ya tenemos el desarrollo de las variables parciales podemos ajustar los parametros de nuestra red\n",
    "\n",
    "#### Actualizamos el parametro de BIAS usando el Vector Gradiente"
   ]
  },
  {
   "cell_type": "code",
   "execution_count": 125,
   "metadata": {},
   "outputs": [
    {
     "data": {
      "text/latex": [
       "$\\displaystyle b_{l+1} =b_{l} - \\epsilon\\frac{\\partial C}{\\partial b}$"
      ],
      "text/plain": [
       "<IPython.core.display.Math object>"
      ]
     },
     "metadata": {},
     "output_type": "display_data"
    },
    {
     "data": {
      "text/latex": [
       "$\\displaystyle \\epsilon = El\\ ratio\\ de\\ aprendizaje\\ (Cuanto\\ nos\\ deplazamos\\ en\\ nuestra\\ función\\ de\\ coste\\ en\\ cada\\ iteración)$"
      ],
      "text/plain": [
       "<IPython.core.display.Math object>"
      ]
     },
     "metadata": {},
     "output_type": "display_data"
    }
   ],
   "source": [
    "display(Math(r'b_{l+1} =b_{l} - \\epsilon\\frac{\\partial C}{\\partial b}'))\n",
    "display(Math(r'\\epsilon = El\\ ratio\\ de\\ aprendizaje\\ (Cuanto\\ nos\\ deplazamos\\ en\\ nuestra\\ función\\ de\\ coste\\ en\\ cada\\ iteración)'))"
   ]
  },
  {
   "cell_type": "markdown",
   "metadata": {},
   "source": [
    "#### Actualizamos el parametro de pesos usando el vector Gradiente"
   ]
  },
  {
   "cell_type": "code",
   "execution_count": 126,
   "metadata": {},
   "outputs": [
    {
     "data": {
      "text/latex": [
       "$\\displaystyle w_{l+1} =w_{l} - \\epsilon\\frac{\\partial C}{\\partial w}$"
      ],
      "text/plain": [
       "<IPython.core.display.Math object>"
      ]
     },
     "metadata": {},
     "output_type": "display_data"
    },
    {
     "data": {
      "text/latex": [
       "$\\displaystyle \\epsilon = El\\ ratio\\ de\\ aprendizaje\\ (Cuanto\\ nos\\ deplazamos\\ en\\ nuestra\\ función\\ de\\ coste\\ en\\ cada\\ iteración)$"
      ],
      "text/plain": [
       "<IPython.core.display.Math object>"
      ]
     },
     "metadata": {},
     "output_type": "display_data"
    }
   ],
   "source": [
    "display(Math(r'w_{l+1} =w_{l} - \\epsilon\\frac{\\partial C}{\\partial w}'))\n",
    "display(Math(r'\\epsilon = El\\ ratio\\ de\\ aprendizaje\\ (Cuanto\\ nos\\ deplazamos\\ en\\ nuestra\\ función\\ de\\ coste\\ en\\ cada\\ iteración)'))"
   ]
  },
  {
   "cell_type": "markdown",
   "metadata": {},
   "source": [
    "Realizamos este proceso interativamente hasta que conseguimos minimizar el error en nuestra función de coste.\n",
    "***Algoritmo del Gradiente Descendente***\n",
    "\n",
    "![](images/gradientdescent.gif)"
   ]
  },
  {
   "cell_type": "markdown",
   "metadata": {},
   "source": [
    "### Clase para la estrutura de la red neuronal\n",
    "* Creamos una clase en Python que nos permite crear una red neural de n neuronas y l capas\n",
    "* Esta clase generará de forma aleatoria los valores de los pesos (W) y el del sesgo (BIAS)"
   ]
  },
  {
   "cell_type": "code",
   "execution_count": 94,
   "metadata": {},
   "outputs": [],
   "source": [
    "class neural_layer():\n",
    "    def __init__(self, n_conn, n_neur, act_f):\n",
    "        self.act_f=act_f\n",
    "        self.b=np.random.randn(1,n_neur)\n",
    "        self.w=np.random.randn(n_conn,n_neur)\n",
    "    "
   ]
  },
  {
   "cell_type": "markdown",
   "metadata": {},
   "source": [
    "### Creamos nuestra Red\n",
    "* Creamos una función que usará la clase neural_layer para crear nuestra red neuronal\n",
    "* Además a esta red le pasaremos la función de activación en las capas ocultas y en la capa de salida"
   ]
  },
  {
   "cell_type": "code",
   "execution_count": 95,
   "metadata": {},
   "outputs": [],
   "source": [
    "def create_nn(topology, act_f, last_f=sigm):\n",
    "    nn=[]\n",
    "    for l, layer in enumerate(topology[:-1]):\n",
    "        if l+1 is len(topology[:-1]): # Añadimos a la ultima capa la función de activación distinta\n",
    "            nn.append(neural_layer(topology[l],topology[l+1],last_f))\n",
    "        else:\n",
    "            nn.append(neural_layer(topology[l],topology[l+1],act_f))   \n",
    "    return nn    "
   ]
  },
  {
   "cell_type": "markdown",
   "metadata": {},
   "source": [
    "## Definimos la función de entrenamiento de nuestra red"
   ]
  },
  {
   "cell_type": "code",
   "execution_count": 96,
   "metadata": {},
   "outputs": [],
   "source": [
    "#Función de entrenamiento\n",
    "def train(neural_net, X, Y, f_cost,lr=0.5,train=True):\n",
    "    out=[(None,X)] # En este array guarda los pares de z y a [(z0,a0),(z1,a1),...]\n",
    "    \n",
    "    #Forward Pass\n",
    "    for l, layer in enumerate(neural_net):\n",
    "      \n",
    "        z = np.dot(out[-1][1],neural_net[l].w) + neural_net[l].b\n",
    "        a = neural_net[l].act_f[0](z)\n",
    "       \n",
    "        out.append((z,a))\n",
    "\n",
    "    \n",
    "    #Backpropagation and Gradient descent\n",
    "    \n",
    "    if train:\n",
    "        delta=[]\n",
    "        \n",
    "        for l in reversed(range(0,len(neural_net))):\n",
    "            z=out[l+1][0]\n",
    "            a=out[l+1][1]\n",
    "            \n",
    "            #Si estamos en la ultima capa\n",
    "            if l == len(neural_net) - 1:\n",
    "                delta.insert(0, f_cost[1](a, Y) * neural_net[l].act_f[1](a))\n",
    "            #Calculamos delta en las capas previas\n",
    "            else:\n",
    "                delta.insert(0,np.dot(delta[0],aux_w.T) * neural_net[l].act_f[1](a)) \n",
    "                #Cuidado con los indices de las capas, son distinos (1+) en el array Out\n",
    "                \n",
    "            aux_w=neural_net[l].w \n",
    "            #Lo guardamos en una variable auxiliar para poder modificar los valores al mismo tiempo usando el Gradiente descendente\n",
    "                \n",
    "            #Gradient Descent : Ajuste de los pesos y el valor BIAS\n",
    "            neural_net[l].b = neural_net[l].b - lr * np.mean(delta[0], axis=0, keepdims=True)\n",
    "            #Hago la media de los valores que tengo en el vector de Bias y con keepdims conservo su dimensión\n",
    "            neural_net[l].w = neural_net[l].w - np.dot(out[l][1].T,delta[0])*lr\n",
    "    return out[-1][1] "
   ]
  },
  {
   "cell_type": "markdown",
   "metadata": {},
   "source": [
    "## Entrenamos nuestra red neuronal"
   ]
  },
  {
   "cell_type": "markdown",
   "metadata": {},
   "source": [
    "### Creamos el dataset\n",
    "#### Make Circles\n",
    "* Crear un círculo grande que contenga un círculo más pequeño en 2d.\n",
    "* Un conjunto de datos simple para visualizar algoritmos de agrupamiento y clasificación.\n",
    "* https://scikit-learn.org/stable/modules/generated/sklearn.datasets.make_circles.html?highlight=make%20circles#sklearn.datasets.make_circles"
   ]
  },
  {
   "cell_type": "code",
   "execution_count": 97,
   "metadata": {},
   "outputs": [
    {
     "data": {
      "image/png": "[encoded data removed]",
      "text/plain": [
       "<Figure size 432x288 with 1 Axes>"
      ]
     },
     "metadata": {
      "needs_background": "light"
     },
     "output_type": "display_data"
    }
   ],
   "source": [
    "n=800 #número de puntos utilizados en el dataset\n",
    "X, Y = make_circles(n_samples=n, noise=0.04, shuffle=True, factor=0.3)\n",
    "Y = Y[:,np.newaxis] #Le genero una dimensión a los valores de Y para poder operar con ellos en train\n",
    "\n",
    "#Creamos dos circulos para realziar un aprendizaje un poco más complejo\n",
    "# Al circulo original le sumammos una constante aleatoria entre 2 y 4 para desplazarla en el eje\n",
    "X=X+random.uniform(-2,4)\n",
    "X_1=X+random.uniform(-2,4)\n",
    "\n",
    "#unimos ambos arrays\n",
    "Y=np.concatenate((Y,Y), axis=0)\n",
    "X=np.concatenate((X,X_1),axis=0)\n",
    "\n",
    "#Escalamos los valores entre -1 y 1\n",
    "scaler = MinMaxScaler(feature_range=(-1, 1))\n",
    "X = scaler.fit_transform(X)\n",
    "\n",
    "#Mezclamos los valores dentro del array para evitar el posible patrón de suma de la constante\n",
    "state=np.random.get_state()\n",
    "np.random.shuffle(X)\n",
    "#Guardamos el esto aleatorio para plicarlo igual en la Y y así mantener la clasificación del circulo exterior e interior\n",
    "np.random.set_state(state) \n",
    "np.random.shuffle(Y)\n",
    "\n",
    "#Dibujamos ambos circulos\n",
    "plt.scatter(X[Y[:,0]==0,0],X[Y[:,0]==0,1],color=\"blue\")\n",
    "plt.scatter(X[Y[:,0]==1,0],X[Y[:,0]==1,1],color=\"salmon\")\n",
    "plt.axis(\"equal\")\n",
    "plt.show()"
   ]
  },
  {
   "cell_type": "markdown",
   "metadata": {},
   "source": [
    "### Creamos la estructura de la red neuronal que aprenderá a clasificar este dataset\n",
    "* ***Topology*** : Estructura de capas que tendrá nuestrad\n",
    "* ***create_nn*** : Función que crea nuestra red pasando las funciones de activación (capas ocultas y capa de salida)\n",
    "* ***f_loss*** : Función de perdida que usaremos (MSE ó Entropía cruzada binaria)\n",
    "* ***epochs*** : Número de épocas de nuestra red, es decir, el número de veces que realzizrá la retropropagación\n",
    "* ***lr*** : Ratio de aprendizaje, parametro por el cual avanza nuestro algoritmo en la función de coste"
   ]
  },
  {
   "cell_type": "code",
   "execution_count": 98,
   "metadata": {},
   "outputs": [],
   "source": [
    "topology=[2,12,6,1] #Recuerda que la primera capa debe ser igual al número de clases que tienes que clasificar\n",
    "neural_n=create_nn(topology,relu,sigm)\n",
    "f_loss=cross_loss\n",
    "epochs=1500\n",
    "lr=0.0001"
   ]
  },
  {
   "cell_type": "markdown",
   "metadata": {},
   "source": [
    "### Ejecutamos el entrenamiento"
   ]
  },
  {
   "cell_type": "code",
   "execution_count": 99,
   "metadata": {
    "scrolled": false
   },
   "outputs": [
    {
     "data": {
      "image/png": "[encoded data removed]",
      "text/plain": [
       "<Figure size 1080x1080 with 2 Axes>"
      ]
     },
     "metadata": {
      "needs_background": "light"
     },
     "output_type": "display_data"
    }
   ],
   "source": [
    "loss=[] #Array donde guardaremos los errores de las sucesivas interacciones\n",
    "\n",
    "for i in range(epochs):\n",
    "    pY=train(neural_n,X,Y,f_loss,lr)\n",
    "    if i %25 == 0:\n",
    "        loss.append(f_loss[0](pY,Y))\n",
    "        \n",
    "        res=50\n",
    "        \n",
    "        _x0 = np.linspace(-1.5,1.5, res)\n",
    "        _x1 = np.linspace(-1.5,1.5, res)\n",
    "        \n",
    "        _Y = np.zeros((res,res))\n",
    "        \n",
    "        for i0, x0 in enumerate(_x0):\n",
    "            for i1, x1 in enumerate(_x1):\n",
    "                    _Y[i0, i1] = train(neural_n, np.array([[x0,x1]]), Y, f_loss,train=False)[0][0]\n",
    "        \n",
    "        plt.figure(1,figsize=(15,15))\n",
    "        plt.subplot(221)\n",
    "        plt.title(\"Aprendizaje de clasificación\")        \n",
    "        plt.pcolormesh(_x0, _x1, _Y, cmap=\"inferno\")\n",
    "        plt.axis(\"equal\")\n",
    "\n",
    "        plt.scatter(X[Y[:,0]==0,0],X[Y[:,0]==0,1],color=\"blue\")\n",
    "        plt.scatter(X[Y[:,0]==1,0],X[Y[:,0]==1,1],color=\"salmon\")\n",
    "        \n",
    "        clear_output(wait=True)\n",
    "        plt.subplot(222)\n",
    "        plt.title(\"Función de error\")\n",
    "        plt.xlabel(\"epochs\")\n",
    "        plt.ylabel(\"error\")\n",
    "        plt.grid()\n",
    "        plt.plot(range(len(loss)),loss)\n",
    "        plt.show()\n",
    "        time.sleep(0.5)"
   ]
  },
  {
   "cell_type": "code",
   "execution_count": null,
   "metadata": {},
   "outputs": [],
   "source": []
  }
 ],
 "metadata": {
  "kernelspec": {
   "display_name": "Python 3",
   "language": "python",
   "name": "python3"
  },
  "language_info": {
   "codemirror_mode": {
    "name": "ipython",
    "version": 3
   },
   "file_extension": ".py",
   "mimetype": "text/x-python",
   "name": "python",
   "nbconvert_exporter": "python",
   "pygments_lexer": "ipython3",
   "version": "3.7.7"
  }
 },
 "nbformat": 4,
 "nbformat_minor": 4
}
