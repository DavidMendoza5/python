{
 "cells": [
  {
   "cell_type": "markdown",
   "metadata": {},
   "source": [
    "# Funciones de coste y sus derivadas\n",
    "### MSE (Error cuadratico medio)"
   ]
  },
  {
   "cell_type": "code",
   "execution_count": 2,
   "metadata": {},
   "outputs": [],
   "source": [
    "import numpy as np\n",
    "import math, random\n",
    "import matplotlib.pyplot as plt\n",
    "%matplotlib inline  \n",
    "from IPython.display import display, Math, Latex"
   ]
  },
  {
   "cell_type": "code",
   "execution_count": 3,
   "metadata": {},
   "outputs": [
    {
     "data": {
      "text/latex": [
       "$\\displaystyle MSE = \\frac{1}{n}{\\sum_{1=1}^n{(Y_i - \\hat{Y_i})}^2} $"
      ],
      "text/plain": [
       "<IPython.core.display.Math object>"
      ]
     },
     "metadata": {},
     "output_type": "display_data"
    },
    {
     "data": {
      "text/latex": [
       "$\\displaystyle 'MSE = \\sum_{i=1}^n{(Y_i - \\hat{Y_i})} $"
      ],
      "text/plain": [
       "<IPython.core.display.Math object>"
      ]
     },
     "metadata": {},
     "output_type": "display_data"
    }
   ],
   "source": [
    "mse_loss= (lambda Yp,Yr: np.mean((Yp-Yr)**2), lambda Yp,Yr: (Yp-Yr))\n",
    "\n",
    "display(Math(r'MSE = \\frac{1}{n}{\\sum_{1=1}^n{(Y_i - \\hat{Y_i})}^2} '))\n",
    "display(Math(r\"'MSE = \\sum_{i=1}^n{(Y_i - \\hat{Y_i})} \"))"
   ]
  },
  {
   "cell_type": "markdown",
   "metadata": {},
   "source": [
    "### Cross entropy binary"
   ]
  },
  {
   "cell_type": "code",
   "execution_count": 4,
   "metadata": {},
   "outputs": [
    {
     "data": {
      "text/latex": [
       "$\\displaystyle H(y,P) = \\begin{cases}P=1, -\\log(P)\\\\P=0, -\\log(1-P)\\end{cases}$"
      ],
      "text/plain": [
       "<IPython.core.display.Math object>"
      ]
     },
     "metadata": {},
     "output_type": "display_data"
    },
    {
     "name": "stderr",
     "output_type": "stream",
     "text": [
      "C:\\Users\\jorge.calvo\\AppData\\Local\\Continuum\\anaconda3\\envs\\IA\\lib\\site-packages\\ipykernel_launcher.py:1: RuntimeWarning: divide by zero encountered in log\n",
      "  \"\"\"Entry point for launching an IPython kernel.\n",
      "C:\\Users\\jorge.calvo\\AppData\\Local\\Continuum\\anaconda3\\envs\\IA\\lib\\site-packages\\ipykernel_launcher.py:1: RuntimeWarning: invalid value encountered in log\n",
      "  \"\"\"Entry point for launching an IPython kernel.\n"
     ]
    },
    {
     "data": {
      "image/png": "[encoded data removed]",
      "text/plain": [
       "<Figure size 1080x720 with 2 Axes>"
      ]
     },
     "metadata": {
      "needs_background": "light"
     },
     "output_type": "display_data"
    }
   ],
   "source": [
    "entropy_loss_binary= (lambda Yp: -np.log(Yp), lambda Yp: -np.log(1-Yp))\n",
    "\n",
    "display(Math(r'H(y,P) = \\begin{cases}P=1, -\\log(P)\\\\P=0, -\\log(1-P)\\end{cases}'))\n",
    "\n",
    "v = np.linspace(0,10,100)\n",
    "plt.figure(1,figsize=(15,10))\n",
    "plt.subplot(221)\n",
    "plt.plot(v,entropy_loss_binary[0](v))\n",
    "plt.title(\"Funcion Entropia Y=1\")\n",
    "plt.subplot(222)\n",
    "plt.plot(v,entropy_loss_binary[1](v), color=\"red\")\n",
    "plt.title(\"Función Entropia Y=0\")\n",
    "plt.savefig('images\\sigmoide.png')\n",
    "plt.show()"
   ]
  },
  {
   "cell_type": "markdown",
   "metadata": {},
   "source": [
    "Estas dos expresiones podemos juntarlas en una sola para obetener una unica función de coste"
   ]
  },
  {
   "cell_type": "code",
   "execution_count": 5,
   "metadata": {},
   "outputs": [
    {
     "data": {
      "text/latex": [
       "$\\displaystyle H(y,P) = -\\frac{1}{n}{\\sum_{1=1}^n}(y\\log(P) + (1-y)\\log(1-P))$"
      ],
      "text/plain": [
       "<IPython.core.display.Math object>"
      ]
     },
     "metadata": {},
     "output_type": "display_data"
    },
    {
     "data": {
      "text/latex": [
       "$\\displaystyle 'H(y,P) =-(\\frac{y}{P}-\\frac{1-y}{1-P})$"
      ],
      "text/plain": [
       "<IPython.core.display.Math object>"
      ]
     },
     "metadata": {},
     "output_type": "display_data"
    }
   ],
   "source": [
    "cross_loss = (lambda Yp,Yr:-np.nanmean(Yr * np.log(Yp) + (1-Yr) * np.log(1-Yp)), \n",
    "              lambda Yp,Yr: -(np.divide(Yr,Yp)- np.divide(1-Yr, 1-Yp)))\n",
    "\n",
    "display(Math(r'H(y,P) = -\\frac{1}{n}{\\sum_{1=1}^n}(y\\log(P) + (1-y)\\log(1-P))'))\n",
    "display(Math(r\"'H(y,P) =-(\\frac{y}{P}-\\frac{1-y}{1-P})\"))    "
   ]
  },
  {
   "cell_type": "code",
   "execution_count": null,
   "metadata": {},
   "outputs": [],
   "source": []
  }
 ],
 "metadata": {
  "kernelspec": {
   "display_name": "Python 3",
   "language": "python",
   "name": "python3"
  },
  "language_info": {
   "codemirror_mode": {
    "name": "ipython",
    "version": 3
   },
   "file_extension": ".py",
   "mimetype": "text/x-python",
   "name": "python",
   "nbconvert_exporter": "python",
   "pygments_lexer": "ipython3",
   "version": "3.7.7"
  }
 },
 "nbformat": 4,
 "nbformat_minor": 4
}
